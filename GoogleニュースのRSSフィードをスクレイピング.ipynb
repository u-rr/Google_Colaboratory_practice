{
  "nbformat": 4,
  "nbformat_minor": 0,
  "metadata": {
    "colab": {
      "name": "GoogleニュースのRSSフィードをスクレイピング.ipynb",
      "provenance": [],
      "collapsed_sections": [],
      "authorship_tag": "ABX9TyMe8YYo9qSvxt1hUer/LFz0",
      "include_colab_link": true
    },
    "kernelspec": {
      "name": "python3",
      "display_name": "Python 3"
    }
  },
  "cells": [
    {
      "cell_type": "markdown",
      "metadata": {
        "id": "view-in-github",
        "colab_type": "text"
      },
      "source": [
        "<a href=\"https://colab.research.google.com/github/u-rr/Google_Colaboratory_practice/blob/main/Google%E3%83%8B%E3%83%A5%E3%83%BC%E3%82%B9%E3%81%AERSS%E3%83%95%E3%82%A3%E3%83%BC%E3%83%89%E3%82%92%E3%82%B9%E3%82%AF%E3%83%AC%E3%82%A4%E3%83%94%E3%83%B3%E3%82%B0.ipynb\" target=\"_parent\"><img src=\"https://colab.research.google.com/assets/colab-badge.svg\" alt=\"Open In Colab\"/></a>"
      ]
    },
    {
      "cell_type": "code",
      "metadata": {
        "id": "qU_T6a8H9i81"
      },
      "source": [
        "pip install feedparser"
      ],
      "execution_count": null,
      "outputs": []
    },
    {
      "cell_type": "code",
      "metadata": {
        "colab": {
          "base_uri": "https://localhost:8080/"
        },
        "id": "2aQjhr769ZHS",
        "outputId": "e14106d8-c92e-4cf8-89a3-39f073846e58"
      },
      "source": [
        "import feedparser\n",
        "import urllib.parse\n",
        "import csv\n",
        "\n",
        "# 取得したいキーワードを入れる\n",
        "keyword = '岸優太'\n",
        "\n",
        "# keyword変数に入れた単語をパーセンドエンコードに変換\n",
        "keyword_quote = urllib.parse.quote(keyword)\n",
        "\n",
        "#　日本語をパーセンドエンコードに変換済みのURLを自動で作成してurl変数に格納\n",
        "url = f'https://news.google.com/rss/search?amp;hl=ja&amp;gl=JP&q={keyword_quote}&hl=ja&gl=JP&ceid=JP:ja'\n",
        "\n",
        "#　一回動かしたらセッション切れるまではデータがd変数に入ったままになるのでコメントアウトでトライ＆エラーできる\n",
        "# d = feedparser.parse(url)\n",
        "\n",
        "news = []\n",
        "for i, entry in enumerate(d.entries, 1):\n",
        "    # newsリストに辞書としてほしい情報を格納\n",
        "    news.append({\"id\": i, \"title\": entry.title, \"source\": entry.source.title,\"url\": entry.link, \"published\": entry.published })\n",
        "\n",
        "    # 再利用しやすいようにCSVへ書き込み\n",
        "    with open(f\"{keyword}.csv\", \"w\", newline=\"\") as f:\n",
        "        writer = csv.DictWriter(f, [\"id\", \"title\", \"source\", \"url\", 'published'])\n",
        "        writer.writeheader()\n",
        "        writer.writerows(news)\n",
        "        \n",
        "# 処理が終わったのがわかるためのメッセージ\n",
        "print('保存できたよ')\n"
      ],
      "execution_count": null,
      "outputs": [
        {
          "output_type": "stream",
          "text": [
            "保存できたよ\n"
          ],
          "name": "stdout"
        }
      ]
    }
  ]
}