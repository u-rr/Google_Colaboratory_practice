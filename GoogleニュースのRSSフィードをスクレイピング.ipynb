{
  "nbformat": 4,
  "nbformat_minor": 0,
  "metadata": {
    "colab": {
      "name": "GoogleニュースのRSSフィードをスクレイピング.ipynb",
      "provenance": [],
      "collapsed_sections": [],
      "authorship_tag": "ABX9TyPsB9ngXUcCZ74xV+bH4eAC"
    },
    "kernelspec": {
      "name": "python3",
      "display_name": "Python 3"
    }
  },
  "cells": [
    {
      "cell_type": "code",
      "metadata": {
        "id": "qU_T6a8H9i81"
      },
      "source": [
        "pip install feedparser"
      ],
      "execution_count": null,
      "outputs": []
    },
    {
      "cell_type": "code",
      "metadata": {
        "colab": {
          "base_uri": "https://localhost:8080/"
        },
        "id": "2aQjhr769ZHS",
        "outputId": "e8e2ffa4-0035-4c8a-b9cb-8b6f450341ce"
      },
      "source": [
        "import feedparser\n",
        "import urllib.parse\n",
        "import csv\n",
        "\n",
        "# 取得したいキーワードを入れる\n",
        "keyword = '岸優太'\n",
        "\n",
        "# keyword変数に入れた単語をパーセンドエンコードに変換\n",
        "keyword_quote = urllib.parse.quote(keyword)\n",
        "\n",
        "#　日本語をパーセンドエンコードに変換済みのURLを自動で作成してurl変数に格納\n",
        "url = f'https://news.google.com/rss/search?amp;hl=ja&amp;gl=JP&q={keyword_quote}&hl=ja&gl=JP&ceid=JP:ja'\n",
        "\n",
        "#　一回動かしたらセッション切れるまではデータがd変数に入ったままになるのでコメントアウトでトライ＆エラーできる\n",
        "# d = feedparser.parse(url)\n",
        "\n",
        "news = []\n",
        "try: \n",
        "    for i, entry in enumerate(d.entries, 1):\n",
        "        # newsリストに辞書としてほしい情報を格納\n",
        "        news.append({\"id\": i, \"title\": entry.title, \"source\": entry.source.title,\"url\": entry.link, \"published\": entry.published })\n",
        "\n",
        "        # 再利用しやすいようにCSVへ書き込み\n",
        "        with open(f\"{keyword}.csv\", \"w\", newline=\"\") as f:\n",
        "            writer = csv.DictWriter(f, [\"id\", \"title\", \"source\", \"url\", 'published'])\n",
        "            writer.writeheader()\n",
        "            writer.writerows(news)\n",
        "            \n",
        "    # 処理が終わったのがわかるためのメッセージ\n",
        "    print('保存できたよ')\n",
        "\n",
        "except NameError:\n",
        "    print('クロールできてないよ！15行目のコメントアウトを外してね。')\n",
        "    "
      ],
      "execution_count": 5,
      "outputs": [
        {
          "output_type": "stream",
          "text": [
            "クロールできてないよ！15行目のコメントアウトを外してね。\n"
          ],
          "name": "stdout"
        }
      ]
    }
  ]
}